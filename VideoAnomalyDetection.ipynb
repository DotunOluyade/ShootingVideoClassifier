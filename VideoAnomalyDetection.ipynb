{
  "cells": [
    {
      "cell_type": "markdown",
      "metadata": {
        "id": "view-in-github",
        "colab_type": "text"
      },
      "source": [
        "<a href=\"https://colab.research.google.com/github/DotunOluyade/ShootingVideoClassifier/blob/main/VideoAnomalyDetection.ipynb\" target=\"_parent\"><img src=\"https://colab.research.google.com/assets/colab-badge.svg\" alt=\"Open In Colab\"/></a>"
      ]
    },
    {
      "cell_type": "markdown",
      "metadata": {
        "id": "yqG2VmTbSxG7"
      },
      "source": [
        "\n",
        "# Real-Time Crime Prevention using Video Anomaly Detection\n",
        "\n",
        "\n"
      ]
    },
    {
      "cell_type": "markdown",
      "metadata": {
        "id": "014sqOa1E1R_"
      },
      "source": [
        "Comparative Analysis of Pretrained Video Classification models in detecting real-time shooting crime for peace and safety"
      ]
    },
    {
      "cell_type": "markdown",
      "metadata": {
        "id": "aAZ2GqfATJYM"
      },
      "source": [
        "## Data Collection\n",
        "\n",
        "A sub-set of UCF-Crime dataset is used for this research work. It contains 128 hours of video, comprising 1900 long untrimmed real world surveillance videos, with 13 realistic anomalies as well as normal activities (Sultani et al., *2018*).\n",
        "\n",
        "This research uses the shooting dataset only to fine-tune selected video classification pretrained models, compares and evaluate their performance."
      ]
    },
    {
      "cell_type": "markdown",
      "metadata": {
        "id": "uparbOrXN11d"
      },
      "source": [
        "### Specify Dataset Location\n",
        "\n",
        "Import package dependencies and define variables for datasets and pretrained model.\n",
        "\n",
        "Video Swim a pure transformer based video modeling algorithm with its pretrained model is used for feature extraction and fine-tuned with the shooting dataset for classifying videos as shooting or non shooting videos (Liu et al.,2022).\n",
        "\n"
      ]
    },
    {
      "cell_type": "code",
      "source": [
        "#from google.colab import drive\n",
        "#drive.mount('/content/drive')\n",
        "\n",
        "\n",
        "!cp -r \"/content/drive/MyDrive/VideoAnomalyDetection/data/UCF-Crime/Small_Anomaly/\" \"/content/Small_Anomaly/\"\n",
        "\n",
        "!cp -r \"/content/drive/MyDrive/VideoAnomalyDetection/data/UCF-Crime/Small_Normal/\" \"/content/Small_Normal/\"\n",
        "\n",
        "\n",
        "!ls \"/content/Small_Anomaly/\"\n",
        "!ls \"/content/Small_Normal/\"\n"
      ],
      "metadata": {
        "colab": {
          "base_uri": "https://localhost:8080/"
        },
        "id": "KHMuiOcnQZP0",
        "outputId": "cf0da5cd-7a23-40cf-df2a-b3629bb69ac8"
      },
      "execution_count": null,
      "outputs": [
        {
          "output_type": "stream",
          "name": "stdout",
          "text": [
            "Shooting003_x264.mp4  Shooting006_x264.mp4  Shooting012_x264.mp4  Small_Anomaly\n",
            "Shooting004_x264.mp4  Shooting007_x264.mp4  Shooting013_x264.mp4\n",
            "Shooting005_x264.mp4  Shooting009_x264.mp4  Shooting014_x264.mp4\n",
            "Normal_Videos001_x264.mp4  Normal_Videos007_x264.mp4  Normal_Videos012_x264.mp4\n",
            "Normal_Videos002_x264.mp4  Normal_Videos008_x264.mp4  Normal_Videos013_x264.mp4\n",
            "Normal_Videos004_x264.mp4  Normal_Videos009_x264.mp4  Small_Normal\n",
            "Normal_Videos005_x264.mp4  Normal_Videos011_x264.mp4\n"
          ]
        }
      ]
    },
    {
      "cell_type": "code",
      "execution_count": 19,
      "metadata": {
        "id": "seFZ6F6PTF71"
      },
      "outputs": [],
      "source": [
        "import cv2\n",
        "import os\n",
        "import shutil\n",
        "import pandas as pd\n",
        "import shutil\n",
        "import numpy as np\n",
        "from sklearn.utils import shuffle as sk_shuffle\n",
        "import tensorflow as tf\n",
        "from tensorflow.keras.callbacks import ModelCheckpoint, EarlyStopping, ReduceLROnPlateau, TensorBoard\n",
        "import os\n",
        "import glob\n",
        "from sklearn.utils import shuffle\n",
        "import matplotlib.pyplot as plt\n",
        "from tensorflow import keras\n",
        "from tensorflow.keras import layers, models, regularizers\n",
        "from tensorflow.keras.metrics import Precision, Recall, AUC\n",
        "import pandas as pd\n",
        "from IPython.display import HTML, display\n",
        "import time\n",
        "import gc\n",
        "\n",
        "\n",
        "\n",
        "\n",
        "base_directory = '/content/drive/MyDrive/VideoAnomalyDetection/data/UCF-Crime/'\n",
        "normal_dir = '/content/drive/MyDrive/VideoAnomalyDetection/data/UCF-Crime/Small_Normal'\n",
        "anomaly_dir = '/content/drive/MyDrive/VideoAnomalyDetection/data/UCF-Crime/Small_Anomaly'\n",
        "anomaly_text_file = '/content/drive/MyDrive/VideoAnomalyDetection/data/UCF-Crime/Anomaly_Train.txt'\n",
        "anomaly_train = '/content/drive/MyDrive/VideoAnomalyDetection/data/UCF-Crime/UCF_Crimes-Train-Test-Split/Anomaly_Detection_splits/Anomaly_Train.txt'\n",
        "\n",
        "saved_model_path = '/content/drive/MyDrive/VideoAnomalyDetection/pretrained/Video Swin Transformer/TFVideoSwinB_K600_IN22K_P244_W877_32x224'"
      ]
    },
    {
      "cell_type": "markdown",
      "metadata": {
        "id": "3Pm7z6-3UOec"
      },
      "source": [
        "# Data Preprocessing\n",
        "\n",
        "Resize, normalize and split videos into frames. Batch frames in 32 segments.\n",
        "\n",
        "Use data generators to prevent loading large datset into memory at once, to better utilize memory for resource constrained environement.\n",
        "\n",
        "Generator loads and preprocess 32 frames at each interval."
      ]
    },
    {
      "cell_type": "code",
      "execution_count": 28,
      "metadata": {
        "id": "77GImlkFzaPW",
        "colab": {
          "base_uri": "https://localhost:8080/"
        },
        "outputId": "921c33d1-844a-4f4c-f58f-107ec7bb735a"
      },
      "outputs": [
        {
          "output_type": "stream",
          "name": "stdout",
          "text": [
            "Processing video: /content/drive/MyDrive/VideoAnomalyDetection/data/UCF-Crime/Normal_Videos/Normal_Videos001_x264.mp4\n",
            "Segment shape: (32, 224, 224, 3)\n",
            "Segment shape: (32, 224, 224, 3)\n",
            "Segment shape: (32, 224, 224, 3)\n",
            "Segment shape: (32, 224, 224, 3)\n",
            "Segment shape: (32, 224, 224, 3)\n",
            "Segment shape: (32, 224, 224, 3)\n",
            "Segment shape: (32, 224, 224, 3)\n",
            "Segment shape: (32, 224, 224, 3)\n",
            "Segment shape: (32, 224, 224, 3)\n",
            "Segment shape: (32, 224, 224, 3)\n",
            "Segment shape: (32, 224, 224, 3)\n",
            "Segment shape: (32, 224, 224, 3)\n",
            "Segment shape: (32, 224, 224, 3)\n",
            "Segment shape: (32, 224, 224, 3)\n",
            "Segment shape: (32, 224, 224, 3)\n",
            "Segment shape: (32, 224, 224, 3)\n",
            "Segment shape: (32, 224, 224, 3)\n",
            "Processing video: /content/drive/MyDrive/VideoAnomalyDetection/data/UCF-Crime/Normal_Videos/Normal_Videos002_x264.mp4\n",
            "Segment shape: (32, 224, 224, 3)\n",
            "Segment shape: (32, 224, 224, 3)\n",
            "Segment shape: (32, 224, 224, 3)\n",
            "Segment shape: (32, 224, 224, 3)\n",
            "Segment shape: (32, 224, 224, 3)\n",
            "Segment shape: (32, 224, 224, 3)\n",
            "Segment shape: (32, 224, 224, 3)\n",
            "Segment shape: (32, 224, 224, 3)\n",
            "Segment shape: (32, 224, 224, 3)\n",
            "Segment shape: (32, 224, 224, 3)\n",
            "Segment shape: (32, 224, 224, 3)\n",
            "Segment shape: (32, 224, 224, 3)\n",
            "Segment shape: (32, 224, 224, 3)\n",
            "Segment shape: (32, 224, 224, 3)\n",
            "Segment shape: (32, 224, 224, 3)\n",
            "Segment shape: (32, 224, 224, 3)\n",
            "Segment shape: (32, 224, 224, 3)\n",
            "Segment shape: (32, 224, 224, 3)\n",
            "Segment shape: (32, 224, 224, 3)\n",
            "Segment shape: (32, 224, 224, 3)\n",
            "Segment shape: (32, 224, 224, 3)\n",
            "Segment shape: (32, 224, 224, 3)\n",
            "Segment shape: (32, 224, 224, 3)\n",
            "Segment shape: (32, 224, 224, 3)\n",
            "Segment shape: (32, 224, 224, 3)\n",
            "Segment shape: (32, 224, 224, 3)\n",
            "Segment shape: (32, 224, 224, 3)\n",
            "Segment shape: (32, 224, 224, 3)\n",
            "Segment shape: (32, 224, 224, 3)\n",
            "Segment shape: (32, 224, 224, 3)\n",
            "Segment shape: (32, 224, 224, 3)\n",
            "Segment shape: (32, 224, 224, 3)\n",
            "Segment shape: (32, 224, 224, 3)\n",
            "Segment shape: (32, 224, 224, 3)\n",
            "Segment shape: (32, 224, 224, 3)\n",
            "Segment shape: (32, 224, 224, 3)\n",
            "Segment shape: (32, 224, 224, 3)\n",
            "Segment shape: (32, 224, 224, 3)\n",
            "Segment shape: (32, 224, 224, 3)\n",
            "Segment shape: (32, 224, 224, 3)\n",
            "Segment shape: (32, 224, 224, 3)\n",
            "Segment shape: (32, 224, 224, 3)\n",
            "Segment shape: (32, 224, 224, 3)\n",
            "Segment shape: (32, 224, 224, 3)\n",
            "Segment shape: (32, 224, 224, 3)\n",
            "Segment shape: (32, 224, 224, 3)\n",
            "Segment shape: (32, 224, 224, 3)\n",
            "Segment shape: (32, 224, 224, 3)\n",
            "Segment shape: (32, 224, 224, 3)\n",
            "Segment shape: (32, 224, 224, 3)\n",
            "Segment shape: (32, 224, 224, 3)\n",
            "Segment shape: (32, 224, 224, 3)\n"
          ]
        }
      ],
      "source": [
        "import cv2\n",
        "import numpy as np\n",
        "\n",
        "def preprocess_and_segment_video(video_path, resize_shape=(224, 224), segment_length=32):\n",
        "    \"\"\"\n",
        "    Generator to preprocess raw videos by resizing, converting color space, and normalization.\n",
        "\n",
        "    Parameters:\n",
        "    - video_path: absolute path to video file.\n",
        "    - resize_shape: shape (width, height) to resize video frames to.\n",
        "    - segment_length: number of frames to include in each segment (batch).\n",
        "\n",
        "    Yields:\n",
        "    - Segments of preprocessed video frames of shape (32, 224, 224, 3).\n",
        "    \"\"\"\n",
        "    cap = cv2.VideoCapture(video_path)\n",
        "    if not cap.isOpened():\n",
        "        print(f\"Warning: Could not open video file {video_path}\")\n",
        "        return np.empty((0, resize_shape[1], resize_shape[0], 3), dtype=np.float32)\n",
        "\n",
        "    frames_count = 0\n",
        "    frames = []\n",
        "    while True:\n",
        "        ret, frame = cap.read()\n",
        "        if not ret:\n",
        "            break  # No more frames or error\n",
        "        frame = cv2.resize(frame, resize_shape)\n",
        "        frame = cv2.cvtColor(frame, cv2.COLOR_BGR2RGB) / 255.0\n",
        "        frames.append(frame)\n",
        "        frames_count += 1\n",
        "        # Yield a batch when enough frames are collected\n",
        "        if frames_count == segment_length:\n",
        "            #print(\"Generator yielding {} frames for video {}\".format(frames_count, video_path))\n",
        "            yield np.stack(frames, axis=0)  # Stack frames to create a segment\n",
        "            frames_count = 0\n",
        "            frames.clear()\n",
        "    cap.release()\n",
        "\n",
        "    # Handle the last batch if it has fewer frames than segment_length\n",
        "    if frames_count > 0:\n",
        "        # Optionally pad the last batch to reach the desired segment length\n",
        "        while frames_count < segment_length:\n",
        "            frames.append(np.zeros(resize_shape + (3,), dtype=np.float32)) # Pad\n",
        "            frames_count += 1\n",
        "        yield np.stack(frames, axis=0)\n",
        "\n",
        "video_paths = [\n",
        "    '/content/drive/MyDrive/VideoAnomalyDetection/data/UCF-Crime/Normal_Videos/Normal_Videos001_x264.mp4',\n",
        "    '/content/drive/MyDrive/VideoAnomalyDetection/data/UCF-Crime/Normal_Videos/Normal_Videos002_x264.mp4'\n",
        "]\n",
        "for video_path in video_paths:\n",
        "    print(f\"Processing video: {video_path}\")\n",
        "    for segment in preprocess_and_segment_video(video_path):\n",
        "        print(f\"Segment shape: {segment.shape}\")\n",
        "\n"
      ]
    },
    {
      "cell_type": "markdown",
      "source": [
        "## Data Augmentation\n",
        "\n",
        "The dataset between normal videos and the anomalous shooting dataset is inbalance and impacts on model performance. To resolve this, data augmentation technique is introduces to increase the shooting dataset by transforming extracted shooting images using cropping, shadowing, blurring on existing images."
      ],
      "metadata": {
        "id": "zR-1YuCAWyT0"
      }
    },
    {
      "cell_type": "markdown",
      "metadata": {
        "id": "BIjfSbVTWdsZ"
      },
      "source": [
        "### Video Processing Utilities"
      ]
    },
    {
      "cell_type": "code",
      "source": [
        "\"\"\"\n",
        "Note: Changed 'train_size' argument to 'train_size_ratio' to avoid confusion with the calculated 'train_size' variable.\n",
        "\"\"\"\n",
        "def list_video_files(directory, extension='mp4'):\n",
        "    \"\"\"\n",
        "    List all video files in the given directory with the specified extension.\n",
        "\n",
        "    Parameters:\n",
        "    - directory: Path to the directory to search for video files.\n",
        "    - extension: Extension of the video files to search for (default is '*.mp4').\n",
        "\n",
        "    Returns:\n",
        "    - A list of paths to the video files found.\n",
        "    \"\"\"\n",
        "     # Check if the directory exists\n",
        "    if not os.path.exists(directory):\n",
        "        print(f\"Error: Directory does not exist - {directory}\")\n",
        "        return []  # Return an empty list instead of None\n",
        "\n",
        "    # Check if the directory can be accessed (read permissions)\n",
        "    if not os.access(directory, os.R_OK):\n",
        "        print(f\"Error: Directory cannot be read, check permissions - {directory}\")\n",
        "        return []  # Return an empty list instead of None\n",
        "\n",
        "    # Perform a recursive search for video files\n",
        "    pattern = os.path.join(directory, '**', f'*.{extension}')\n",
        "    _video_files = glob.glob(pattern, recursive=True)\n",
        "    return _video_files\n",
        "\n",
        "\n",
        "def shuffle_together(video_paths, labels):\n",
        "    \"\"\"\n",
        "    Shuffle two lists in unison.\n",
        "\n",
        "    Parameters:\n",
        "    - video_paths: The first list to shuffle.\n",
        "    - label: The second list to shuffle, must be the same length as list1.\n",
        "\n",
        "    Returns:\n",
        "    - The shuffled video_paths and label.\n",
        "    \"\"\"\n",
        "    if len(video_paths) != len(labels):\n",
        "        raise ValueError(\"The lists to be shuffled must be the same length.\")\n",
        "\n",
        "    # sklearn's shuffle function to shuffle both lists in unison\n",
        "    video_paths_shuffled, label_shuffled = shuffle(video_paths, labels)\n",
        "    return video_paths_shuffled, label_shuffled\n",
        "\n",
        "def get_total_frames(video_path):\n",
        "    \"\"\"\n",
        "    Returns the total number of frames in a video.\n",
        "\n",
        "    Parameters:\n",
        "    - video_path: The path to the video file.\n",
        "\n",
        "    Returns:\n",
        "    - The total number of frames as an integer.\n",
        "    \"\"\"\n",
        "    # Initialize the video capture object with the video file\n",
        "    cap = cv2.VideoCapture(video_path)\n",
        "    if not cap.isOpened():\n",
        "        print(f\"Failed to open video file: {video_path}\")\n",
        "        return 0  # Indicates that the video could not be opened\n",
        "\n",
        "    # Get the total number of frames in the video\n",
        "    total_frames = int(cap.get(cv2.CAP_PROP_FRAME_COUNT))\n",
        "\n",
        "    # Release the video capture object\n",
        "    cap.release()\n",
        "\n",
        "    return total_frames\n",
        "\n",
        "def segments_per_video(video_path, segment_length=32):\n",
        "    total_frames = get_total_frames(video_path)  # This function needs to return the total frame count\n",
        "    segments = 0\n",
        "    if total_frames != 0:\n",
        "          segments = total_frames // segment_length\n",
        "          if total_frames % segment_length != 0:\n",
        "              segments += 1  # Account for the last, potentially shorter, segment\n",
        "    print(\"{} frames, {} segments for {}\".format(total_frames,segments,video_path))\n",
        "    return segments\n",
        "\n",
        "\n",
        "\n",
        "#Example usage\n",
        "video_path = \"/content/drive/MyDrive/VideoAnomalyDetection/data/UCF-Crime/Shooting/Shooting001_x264.mp4\"\n",
        "total_segments = segments_per_video(video_path, segment_length=32)\n",
        "print(f\"Total segments: {total_segments}\")"
      ],
      "metadata": {
        "id": "T79crLju9ZIA",
        "colab": {
          "base_uri": "https://localhost:8080/"
        },
        "outputId": "1f409778-e024-4b59-9bc5-5325121c2678"
      },
      "execution_count": 29,
      "outputs": [
        {
          "output_type": "stream",
          "name": "stdout",
          "text": [
            "253 frames, 8 segments for /content/drive/MyDrive/VideoAnomalyDetection/data/UCF-Crime/Shooting/Shooting001_x264.mp4\n",
            "Total segments: 8\n"
          ]
        }
      ]
    },
    {
      "cell_type": "markdown",
      "source": [
        "#Generate Features and Labels"
      ],
      "metadata": {
        "id": "oh0-78i09aJ_"
      }
    },
    {
      "cell_type": "code",
      "execution_count": 31,
      "metadata": {
        "colab": {
          "base_uri": "https://localhost:8080/"
        },
        "id": "4p6erhh4zIII",
        "outputId": "9f3a26db-d81a-4670-a083-ccdb3b6f4e4c"
      },
      "outputs": [
        {
          "output_type": "stream",
          "name": "stdout",
          "text": [
            "\n",
            "anomaly_videos 1\n",
            "\n",
            "normal_videos 1\n",
            "\n",
            "video paths ['/content/drive/MyDrive/VideoAnomalyDetection/data/UCF-Crime/Small_Anomaly/Shooting004_x264.mp4', '/content/drive/MyDrive/VideoAnomalyDetection/data/UCF-Crime/Small_Normal/Normal_Videos001_x264.mp4'] and labels [1, 0]\n",
            "\n",
            "Shuffled: video paths ['/content/drive/MyDrive/VideoAnomalyDetection/data/UCF-Crime/Small_Normal/Normal_Videos001_x264.mp4', '/content/drive/MyDrive/VideoAnomalyDetection/data/UCF-Crime/Small_Anomaly/Shooting004_x264.mp4'] and labels [0, 1]\n",
            "Video files count: 1 processing: /content/drive/MyDrive/VideoAnomalyDetection/data/UCF-Crime/Small_Normal/Normal_Videos001_x264.mp4\n",
            "\n",
            "Features shape: (32, 224, 224, 3)\n",
            "\n",
            "Features shape: (32, 224, 224, 3)\n",
            "\n",
            "Features shape: (32, 224, 224, 3)\n",
            "544 frames, 17 segments for /content/drive/MyDrive/VideoAnomalyDetection/data/UCF-Crime/Small_Normal/Normal_Videos001_x264.mp4\n",
            "1793 frames, 57 segments for /content/drive/MyDrive/VideoAnomalyDetection/data/UCF-Crime/Small_Anomaly/Shooting004_x264.mp4\n",
            "\n",
            "Total segments across all videos: 74\n",
            "Video files count: 1 processing: /content/drive/MyDrive/VideoAnomalyDetection/data/UCF-Crime/Small_Normal/Normal_Videos001_x264.mp4\n",
            "Video files count: 2 processing: /content/drive/MyDrive/VideoAnomalyDetection/data/UCF-Crime/Small_Anomaly/Shooting004_x264.mp4\n",
            "\n",
            "Total segments actually in dataset: 74\n",
            "\n",
            "Training size split into : 59\n",
            "Video files count: 1 processing: /content/drive/MyDrive/VideoAnomalyDetection/data/UCF-Crime/Small_Normal/Normal_Videos001_x264.mp4\n",
            "Video files count: 2 processing: /content/drive/MyDrive/VideoAnomalyDetection/data/UCF-Crime/Small_Anomaly/Shooting004_x264.mp4\n",
            "\n",
            "Training segments split: 59\n",
            "Video files count: 1 processing: /content/drive/MyDrive/VideoAnomalyDetection/data/UCF-Crime/Small_Normal/Normal_Videos001_x264.mp4\n",
            "Video files count: 2 processing: /content/drive/MyDrive/VideoAnomalyDetection/data/UCF-Crime/Small_Anomaly/Shooting004_x264.mp4\n",
            "\n",
            "Validation segments split: 15\n",
            "Video files count: 1 processing: /content/drive/MyDrive/VideoAnomalyDetection/data/UCF-Crime/Small_Normal/Normal_Videos001_x264.mp4\n",
            "Train: Features shape: (32, 224, 224, 3)\n",
            "Train: Label shape: 0\n",
            "\n",
            "Train: Labels: tf.Tensor(0, shape=(), dtype=int32)\n",
            "Video files count: 1 processing: /content/drive/MyDrive/VideoAnomalyDetection/data/UCF-Crime/Small_Normal/Normal_Videos001_x264.mp4\n",
            "Video files count: 2 processing: /content/drive/MyDrive/VideoAnomalyDetection/data/UCF-Crime/Small_Anomaly/Shooting004_x264.mp4\n",
            "\n",
            "Val: Features shape: (32, 224, 224, 3)\n",
            "val: Label shape: 1\n",
            "val: Labels: tf.Tensor(1, shape=(), dtype=int32)\n"
          ]
        }
      ],
      "source": [
        "def create_dataset_from_videos(video_paths, labels, resize_shape=(224, 224), segment_length=32):\n",
        "    \"\"\"\n",
        "    Creates a TensorFlow dataset of video segments with corresponding labels.\n",
        "\n",
        "    Args:\n",
        "        video_paths (list of str): Paths to video files.\n",
        "        labels (list of int): Labels for each video file.\n",
        "        resize_shape (tuple): The target shape for resizing frames.\n",
        "        segment_length (int): Number of frames per video segment.\n",
        "\n",
        "    Returns:\n",
        "        tf.data.Dataset: A dataset of video segments and labels.\n",
        "    \"\"\"\n",
        "    def generator():\n",
        "        count = 0;\n",
        "        for video_path, label in zip(video_paths, labels):\n",
        "            count = count + 1;\n",
        "            video_gen = preprocess_and_segment_video(video_path, resize_shape, segment_length)\n",
        "            print(\"Video files count: {} processing: {}\".format(count, video_path))\n",
        "            # Iterate over the generator and yield its items\n",
        "            for segment in video_gen:  # Iterate over items yielded by video_gen\n",
        "                yield segment, label\n",
        "            \"\"\"\n",
        "            if features is not None:\n",
        "                # Yield features and label if processing was successful\n",
        "                yield features, label\n",
        "            else:\n",
        "                print(f\"Skipping video {video_path}, unable to process.\")\n",
        "            \"\"\"\n",
        "    return tf.data.Dataset.from_generator(\n",
        "        generator,\n",
        "        output_signature=(\n",
        "            tf.TensorSpec(shape=(segment_length, *resize_shape, 3), dtype=tf.float32),\n",
        "            tf.TensorSpec(shape=(), dtype=tf.int32)\n",
        "        )\n",
        "    )\n",
        "\n",
        "\n",
        "# Assuming implementations for list_video_files and shuffle_together\n",
        "anomaly_videos, normal_videos = list_video_files(anomaly_dir), list_video_files(normal_dir)\n",
        "print(\"\\nanomaly_videos\", len(anomaly_videos))\n",
        "print(\"\\nnormal_videos\", len(normal_videos))\n",
        "\n",
        "video_paths = anomaly_videos + normal_videos\n",
        "labels = [1] * len(anomaly_videos) + [0] * len(normal_videos)\n",
        "print(\"\\nvideo paths {} and labels {}\".format(video_paths,labels))\n",
        "video_paths, labels = shuffle_together(video_paths, labels)\n",
        "print(\"\\nShuffled: video paths {} and labels {}\".format(video_paths,labels))\n",
        "dataset = create_dataset_from_videos(video_paths, labels)\n",
        "\n",
        "for features, label in dataset.take(3):\n",
        "    print(\"\\nFeatures shape:\", features.numpy().shape)\n",
        "\n",
        "# calculate the total video segments i.e training dataset size\n",
        "total_segments_all_videos = sum(segments_per_video(video_path, segment_length=32) for video_path in video_paths)\n",
        "print(f\"\\nTotal segments across all videos: {total_segments_all_videos}\")\n",
        "\n",
        "\n",
        "total_segments_actual = sum(1 for _ in dataset)\n",
        "print(\"\\nTotal segments actually in dataset:\", total_segments_actual)\n",
        "\n",
        "# Calculate split sizes\n",
        "train_size = int(total_segments_actual * 0.8)\n",
        "print(\"\\nTraining size split into :\", train_size)\n",
        "\n",
        "val_size = total_segments - train_size  # Optionally, to ensure the entire dataset is used\n",
        "\n",
        "# Ensure dataset is shuffled (use actual total size if known for better shuffling, uses more memory)\n",
        "dataset = dataset.shuffle(buffer_size=total_segments)\n",
        "\n",
        "train_dataset = dataset.take(train_size)\n",
        "val_dataset = dataset.skip(train_size)\n",
        "\n",
        "train_segments_split = sum(1 for _ in train_dataset)\n",
        "print(\"\\nTraining segments split:\", train_segments_split)\n",
        "\n",
        "val_segments_split = sum(1 for _ in val_dataset)\n",
        "print(\"\\nValidation segments split:\", val_segments_split)\n",
        "\n",
        "\n",
        "for features, label in train_dataset.take(1):\n",
        "    print(\"Train: Features shape:\", features.numpy().shape)\n",
        "    print(\"Train: Label shape:\", label.numpy())\n",
        "    print(\"\\nTrain: Labels:\", label)\n",
        "\n",
        "for features, label in val_dataset.take(1):\n",
        "    print(\"\\nVal: Features shape:\", features.numpy().shape)\n",
        "    print(\"val: Label shape:\", label.numpy())\n",
        "    print(\"val: Labels:\", label)\n"
      ]
    },
    {
      "cell_type": "markdown",
      "metadata": {
        "id": "v4B-y1mRl1Pm"
      },
      "source": [
        "# Fine-Tune A Pretrained Video Swin Transformer Model for Video Classification"
      ]
    },
    {
      "cell_type": "code",
      "execution_count": 32,
      "metadata": {
        "id": "Yzq9StfOfWfv"
      },
      "outputs": [],
      "source": [
        "\n",
        "def build_finetune_model():\n",
        "    \"\"\"\n",
        "    Fine tune pretrained model\n",
        "\n",
        "    Returns:\n",
        "        model (Fine-tuned for shooting classification)\n",
        "    \"\"\"\n",
        "   # import pretrained model, i.e.\n",
        "    video_swin = keras.models.load_model(saved_model_path, compile= False)\n",
        "    video_swin.trainable = False\n",
        "\n",
        "    # Adding sparsity constraint via L1 regularization\n",
        "    regularizer = regularizers.l1(1e-5) #1e-5\n",
        "\n",
        "    # downstream model\n",
        "    model = keras.Sequential([\n",
        "        video_swin,\n",
        "        # video_swin outputs a 1D tensor of shape (600,)\n",
        "        layers.Dense(512, activation='relu',activity_regularizer=regularizer),  # # L1 regularization for sparsity\n",
        "        layers.Dropout(0.5),  # Dropout layer to reduce overfitting\n",
        "        layers.Dense(1, activation='sigmoid')  # Final Dense layer for binary classification\n",
        "    ])\n",
        "    return model\n"
      ]
    },
    {
      "cell_type": "markdown",
      "metadata": {
        "id": "z7RHFSSomcmd"
      },
      "source": [
        "#Train the Fine-Tuned Model for Shooting Classification"
      ]
    },
    {
      "cell_type": "code",
      "execution_count": 33,
      "metadata": {
        "id": "rL-zPaFnqLq5"
      },
      "outputs": [],
      "source": [
        "# Callbacks configuration\n",
        "checkpoint_path = \"model_output/training_1/cp.ckpt\"\n",
        "checkpoint_dir = os.path.dirname(checkpoint_path)\n",
        "\n",
        "callbacks_list = [\n",
        "    ModelCheckpoint(\n",
        "        filepath=checkpoint_path,\n",
        "        save_weights_only=True,\n",
        "        verbose=1,\n",
        "        save_best_only=True,\n",
        "        monitor='val_loss'),  # Save the best model based on val_loss\n",
        "    EarlyStopping(\n",
        "        monitor='val_loss',\n",
        "        patience=10),  # Stop training when `val_loss` is no longer improving\n",
        "    ReduceLROnPlateau(\n",
        "        monitor='val_loss',\n",
        "        factor=0.1,\n",
        "        patience=5),  # Reduce learning rate when `val_loss` plateaus\n",
        "    TensorBoard(\n",
        "        log_dir='model_output/logs',  # Path to save log files for TensorBoard\n",
        "        histogram_freq=1,  # Record activation histograms every 1 epoch\n",
        "        embeddings_freq=1)  # Record embedding data every 1 epoch\n",
        "]"
      ]
    },
    {
      "cell_type": "markdown",
      "source": [
        "## Multiple Instance Learning Loss"
      ],
      "metadata": {
        "id": "dXmpOUVlqyPz"
      }
    },
    {
      "cell_type": "code",
      "source": [
        "import tensorflow as tf\n",
        "\n",
        "def mil_ranking_loss(sparsity_weight=0.01, smoothness_weight=0.01, margin=1.0):\n",
        "    \"\"\"\n",
        "    MIL ranking loss with sparsity and smoothness constraints.\n",
        "\n",
        "    Args:\n",
        "    - sparsity_weight: Weight for the sparsity term.\n",
        "    - smoothness_weight: Weight for the smoothness term.\n",
        "    - margin: Margin for the ranking loss.\n",
        "\n",
        "    Returns:\n",
        "    - A loss function that takes (y_true, y_pred) as inputs.\n",
        "    \"\"\"\n",
        "    def loss(y_true, y_pred):\n",
        "        # y_ped contains the anomaly scores for the instances,\n",
        "        # and y_true contains the bag labels (1 for anomalous, 0 for normal).\n",
        "\n",
        "        # Separate the scores into positive and negative bags based on y_true labels.\n",
        "        positive_scores = tf.boolean_mask(y_pred, tf.cast(y_true, tf.bool))\n",
        "        negative_scores = tf.boolean_mask(y_pred, ~tf.cast(y_true, tf.bool))\n",
        "\n",
        "        # Compute the ranking loss\n",
        "        highest_positive_score = tf.reduce_max(positive_scores)\n",
        "        highest_negative_score = tf.reduce_max(negative_scores)\n",
        "        ranking_loss = tf.maximum(0.0, margin - highest_positive_score + highest_negative_score)\n",
        "\n",
        "        # Compute sparsity constraint (L1 norm)\n",
        "        sparsity_loss = tf.reduce_sum(tf.abs(y_pred))\n",
        "\n",
        "        # Compute smoothness constraint (squared difference between adjacent scores)\n",
        "        diffs = y_pred[:, 1:] - y_pred[:, :-1]\n",
        "        smoothness_loss = tf.reduce_sum(tf.square(diffs))\n",
        "\n",
        "        # Combine the losses\n",
        "        total_loss = ranking_loss + sparsity_weight * sparsity_loss + smoothness_weight * smoothness_loss\n",
        "        return total_loss\n",
        "\n",
        "    return loss"
      ],
      "metadata": {
        "id": "ra-kgXNIq8Le"
      },
      "execution_count": 34,
      "outputs": []
    },
    {
      "cell_type": "code",
      "execution_count": 35,
      "metadata": {
        "colab": {
          "base_uri": "https://localhost:8080/"
        },
        "id": "iUKmgvFm43KK",
        "outputId": "8216c9c6-082a-460b-a956-c991379f7108"
      },
      "outputs": [
        {
          "output_type": "stream",
          "name": "stdout",
          "text": [
            "Video files count: 1 processing: /content/drive/MyDrive/VideoAnomalyDetection/data/UCF-Crime/Small_Normal/Normal_Videos001_x264.mp4\n",
            "Train: Labels: [0]\n",
            "Train: Features shape: (1, 32, 224, 224, 3)\n",
            "Video files count: 1 processing: /content/drive/MyDrive/VideoAnomalyDetection/data/UCF-Crime/Small_Normal/Normal_Videos001_x264.mp4\n",
            "Video files count: 2 processing: /content/drive/MyDrive/VideoAnomalyDetection/data/UCF-Crime/Small_Anomaly/Shooting004_x264.mp4\n",
            "Val: Features shape: (1, 32, 224, 224, 3)\n",
            "val: Labels: [1]\n",
            "_steps_per_epoch 8\n",
            "Video files count: 1 processing: /content/drive/MyDrive/VideoAnomalyDetection/data/UCF-Crime/Small_Normal/Normal_Videos001_x264.mp4\n",
            "(1, 32, 224, 224, 3)\n",
            "Video files count: 1 processing: /content/drive/MyDrive/VideoAnomalyDetection/data/UCF-Crime/Small_Normal/Normal_Videos001_x264.mp4\n",
            "Video files count: 2 processing: /content/drive/MyDrive/VideoAnomalyDetection/data/UCF-Crime/Small_Anomaly/Shooting004_x264.mp4\n",
            "(1, 32, 224, 224, 3)\n",
            "Epoch 1/10\n",
            "Video files count: 1 processing: /content/drive/MyDrive/VideoAnomalyDetection/data/UCF-Crime/Small_Normal/Normal_Videos001_x264.mp4\n",
            "8/8 [==============================] - ETA: 0s - loss: 0.5352 - accuracy: 0.8750 - precision: 0.0000e+00 - recall: 0.0000e+00 - auc: 0.0000e+00Video files count: 1 processing: /content/drive/MyDrive/VideoAnomalyDetection/data/UCF-Crime/Small_Normal/Normal_Videos001_x264.mp4\n",
            "Video files count: 2 processing: /content/drive/MyDrive/VideoAnomalyDetection/data/UCF-Crime/Small_Anomaly/Shooting004_x264.mp4\n",
            "8/8 [==============================] - 142s 16s/step - loss: 0.5352 - accuracy: 0.8750 - precision: 0.0000e+00 - recall: 0.0000e+00 - auc: 0.0000e+00 - val_loss: 6.0142 - val_accuracy: 0.0000e+00 - val_precision: 0.0000e+00 - val_recall: 0.0000e+00 - val_auc: 0.0000e+00\n",
            "Epoch 2/10\n",
            "1/8 [==>...........................] - ETA: 33s - loss: 0.0038 - accuracy: 1.0000 - precision: 0.0000e+00 - recall: 0.0000e+00 - auc: 0.0000e+00Video files count: 2 processing: /content/drive/MyDrive/VideoAnomalyDetection/data/UCF-Crime/Small_Anomaly/Shooting004_x264.mp4\n",
            "8/8 [==============================] - ETA: 0s - loss: 1.0753 - accuracy: 0.6250 - precision: 0.0000e+00 - recall: 0.0000e+00 - auc: 1.0000Video files count: 1 processing: /content/drive/MyDrive/VideoAnomalyDetection/data/UCF-Crime/Small_Normal/Normal_Videos001_x264.mp4\n",
            "Video files count: 2 processing: /content/drive/MyDrive/VideoAnomalyDetection/data/UCF-Crime/Small_Anomaly/Shooting004_x264.mp4\n",
            "8/8 [==============================] - 122s 17s/step - loss: 1.0753 - accuracy: 0.6250 - precision: 0.0000e+00 - recall: 0.0000e+00 - auc: 1.0000 - val_loss: 5.8000 - val_accuracy: 0.0000e+00 - val_precision: 0.0000e+00 - val_recall: 0.0000e+00 - val_auc: 0.0000e+00\n",
            "Epoch 3/10\n",
            "8/8 [==============================] - ETA: 0s - loss: 1.1755 - accuracy: 0.7500 - precision: 1.0000 - recall: 0.6000 - auc: 0.9000Video files count: 1 processing: /content/drive/MyDrive/VideoAnomalyDetection/data/UCF-Crime/Small_Normal/Normal_Videos001_x264.mp4\n",
            "Video files count: 2 processing: /content/drive/MyDrive/VideoAnomalyDetection/data/UCF-Crime/Small_Anomaly/Shooting004_x264.mp4\n",
            "8/8 [==============================] - 122s 17s/step - loss: 1.1755 - accuracy: 0.7500 - precision: 1.0000 - recall: 0.6000 - auc: 0.9000 - val_loss: 0.1434 - val_accuracy: 1.0000 - val_precision: 1.0000 - val_recall: 1.0000 - val_auc: 0.0000e+00\n",
            "Epoch 4/10\n",
            "8/8 [==============================] - ETA: 0s - loss: 0.0459 - accuracy: 1.0000 - precision: 1.0000 - recall: 1.0000 - auc: 1.0000Video files count: 1 processing: /content/drive/MyDrive/VideoAnomalyDetection/data/UCF-Crime/Small_Normal/Normal_Videos001_x264.mp4\n",
            "Video files count: 2 processing: /content/drive/MyDrive/VideoAnomalyDetection/data/UCF-Crime/Small_Anomaly/Shooting004_x264.mp4\n",
            "8/8 [==============================] - 116s 16s/step - loss: 0.0459 - accuracy: 1.0000 - precision: 1.0000 - recall: 1.0000 - auc: 1.0000 - val_loss: 0.0034 - val_accuracy: 1.0000 - val_precision: 1.0000 - val_recall: 1.0000 - val_auc: 0.0000e+00\n",
            "Epoch 5/10\n",
            "8/8 [==============================] - ETA: 0s - loss: 0.0034 - accuracy: 1.0000 - precision: 1.0000 - recall: 1.0000 - auc: 0.0000e+00Video files count: 1 processing: /content/drive/MyDrive/VideoAnomalyDetection/data/UCF-Crime/Small_Normal/Normal_Videos001_x264.mp4\n",
            "Video files count: 2 processing: /content/drive/MyDrive/VideoAnomalyDetection/data/UCF-Crime/Small_Anomaly/Shooting004_x264.mp4\n",
            "8/8 [==============================] - 114s 16s/step - loss: 0.0034 - accuracy: 1.0000 - precision: 1.0000 - recall: 1.0000 - auc: 0.0000e+00 - val_loss: 0.0036 - val_accuracy: 1.0000 - val_precision: 1.0000 - val_recall: 1.0000 - val_auc: 0.0000e+00\n",
            "Epoch 6/10\n",
            "8/8 [==============================] - ETA: 0s - loss: 0.0042 - accuracy: 1.0000 - precision: 1.0000 - recall: 1.0000 - auc: 0.0000e+00Video files count: 1 processing: /content/drive/MyDrive/VideoAnomalyDetection/data/UCF-Crime/Small_Normal/Normal_Videos001_x264.mp4\n",
            "Video files count: 2 processing: /content/drive/MyDrive/VideoAnomalyDetection/data/UCF-Crime/Small_Anomaly/Shooting004_x264.mp4\n",
            "8/8 [==============================] - 112s 15s/step - loss: 0.0042 - accuracy: 1.0000 - precision: 1.0000 - recall: 1.0000 - auc: 0.0000e+00 - val_loss: 0.0037 - val_accuracy: 1.0000 - val_precision: 1.0000 - val_recall: 1.0000 - val_auc: 0.0000e+00\n",
            "Epoch 7/10\n",
            "8/8 [==============================] - ETA: 0s - loss: 0.0042 - accuracy: 1.0000 - precision: 1.0000 - recall: 1.0000 - auc: 0.0000e+00Video files count: 1 processing: /content/drive/MyDrive/VideoAnomalyDetection/data/UCF-Crime/Small_Normal/Normal_Videos001_x264.mp4\n",
            "Video files count: 2 processing: /content/drive/MyDrive/VideoAnomalyDetection/data/UCF-Crime/Small_Anomaly/Shooting004_x264.mp4\n",
            "8/8 [==============================] - 121s 17s/step - loss: 0.0042 - accuracy: 1.0000 - precision: 1.0000 - recall: 1.0000 - auc: 0.0000e+00 - val_loss: 0.0039 - val_accuracy: 1.0000 - val_precision: 1.0000 - val_recall: 1.0000 - val_auc: 0.0000e+00\n",
            "Epoch 8/10\n",
            "3/8 [==========>...................] - ETA: 24s - loss: 0.0032 - accuracy: 1.0000 - precision: 1.0000 - recall: 1.0000 - auc: 0.0000e+00"
          ]
        },
        {
          "output_type": "stream",
          "name": "stderr",
          "text": [
            "WARNING:tensorflow:Your input ran out of data; interrupting training. Make sure that your dataset or generator can generate at least `steps_per_epoch * epochs` batches (in this case, 80 batches). You may need to use the repeat() function when building your dataset.\n"
          ]
        },
        {
          "output_type": "stream",
          "name": "stdout",
          "text": [
            "Video files count: 1 processing: /content/drive/MyDrive/VideoAnomalyDetection/data/UCF-Crime/Small_Normal/Normal_Videos001_x264.mp4\n",
            "Video files count: 2 processing: /content/drive/MyDrive/VideoAnomalyDetection/data/UCF-Crime/Small_Anomaly/Shooting004_x264.mp4\n",
            "8/8 [==============================] - 97s 13s/step - loss: 0.0032 - accuracy: 1.0000 - precision: 1.0000 - recall: 1.0000 - auc: 0.0000e+00 - val_loss: 0.0037 - val_accuracy: 1.0000 - val_precision: 1.0000 - val_recall: 1.0000 - val_auc: 0.0000e+00\n"
          ]
        }
      ],
      "source": [
        "# Split into training and validation data\n",
        "#train_dataset, val_dataset = create_train_val_datasets(anomaly_dir, normal_dir, train_size=0.8, shuffle_buffer_size=100)\n",
        "\n",
        "# Batch for memory efficiency\n",
        "batch_size = 1\n",
        "val_dataset = val_dataset.batch(batch_size)\n",
        "train_dataset = train_dataset.batch(batch_size)\n",
        "val_dataset.repeat()\n",
        "train_dataset.repeat()\n",
        "\n",
        "for features, label in train_dataset.take(1):\n",
        "    print(\"Train: Labels:\", label.numpy())\n",
        "    print(\"Train: Features shape:\", features.numpy().shape)\n",
        "\n",
        "for features, label in val_dataset.take(1):\n",
        "    print(\"Val: Features shape:\", features.numpy().shape)\n",
        "    print(\"val: Labels:\", label.numpy())\n",
        "\n",
        "\n",
        "_steps_per_epoch = total_segments // batch_size\n",
        "print(\"_steps_per_epoch\",_steps_per_epoch)\n",
        "\n",
        "# Asynchronously fetch batches while model is training\n",
        "train_dataset = train_dataset.prefetch(tf.data.AUTOTUNE)\n",
        "val_dataset = val_dataset.prefetch(tf.data.AUTOTUNE)\n",
        "\n",
        "# Only use cache() if memory limits won't be exceeded\n",
        "#train_dataset = train_dataset.cache().prefetch(tf.data.AUTOTUNE)\n",
        "#val_dataset = val_dataset.cache().prefetch(tf.data.AUTOTUNE)\n",
        "\n",
        "# Generate the training and validation generators\n",
        "#train_gen, val_gen, train_size, val_size = train_val_generator(video_paths, labels, batch_size=2)\n",
        "\n",
        "# Calculate steps per epoch for training and validation\n",
        "#train_steps_per_epoch = train_size // batch_size\n",
        "#val_steps = val_size // batch_size\n",
        "\n",
        "finetune_model = build_finetune_model()\n",
        "# Compile model with MIL loss, adam optimizer and metrics\n",
        "finetune_model.compile(\n",
        "    optimizer='adam',\n",
        "    #loss=mil_ranking_loss(sparsity_weight=0.01, smoothness_weight=0.01),\n",
        "    loss='binary_crossentropy',\n",
        "    metrics=[\n",
        "        'accuracy',\n",
        "        Precision(name='precision'),\n",
        "        Recall(name='recall'),\n",
        "        AUC(name='auc')\n",
        "    ]\n",
        ")\n",
        "\n",
        "\n",
        "for features, labels in train_dataset.take(1):\n",
        "    print(features.shape)\n",
        "\n",
        "for features, labels in val_dataset.take(1):\n",
        "    print(features.shape)\n",
        "\n",
        "# Train the model\n",
        "history = finetune_model.fit(train_dataset, epochs=10,steps_per_epoch=_steps_per_epoch, verbose=1,\n",
        "validation_data=val_dataset)\n"
      ]
    },
    {
      "cell_type": "markdown",
      "metadata": {
        "id": "ced1WK7dnwdb"
      },
      "source": [
        "# Evaluate Final Model Performance"
      ]
    },
    {
      "cell_type": "code",
      "execution_count": 36,
      "metadata": {
        "colab": {
          "base_uri": "https://localhost:8080/",
          "height": 611
        },
        "id": "7VI6xmkh497Z",
        "outputId": "ceac05d5-0eb5-47c8-a5f1-dbad77d1fd76"
      },
      "outputs": [
        {
          "output_type": "display_data",
          "data": {
            "text/plain": [
              "<Figure size 1000x400 with 2 Axes>"
            ],
            "image/png": "[encoded data removed]"
          },
          "metadata": {}
        },
        {
          "output_type": "display_data",
          "data": {
            "text/plain": [
              "<Figure size 1500x500 with 3 Axes>"
            ],
            "image/png": "[encoded data removed]"
          },
          "metadata": {}
        }
      ],
      "source": [
        "# Plot accuracy\n",
        "plt.figure(figsize=(10, 4))\n",
        "plt.subplot(1, 2, 1)\n",
        "plt.plot(history.history['accuracy'], label='Train Accuracy')\n",
        "plt.plot(history.history['val_accuracy'], label='Validation Accuracy')\n",
        "plt.title('Accuracy over epochs')\n",
        "plt.xlabel('Epoch')\n",
        "plt.ylabel('Accuracy')\n",
        "plt.legend()\n",
        "\n",
        "# Plot loss\n",
        "plt.subplot(1, 2, 2)\n",
        "plt.plot(history.history['loss'], label='Train Loss')\n",
        "plt.plot(history.history['val_loss'], label='Validation Loss')\n",
        "plt.title('Loss over epochs')\n",
        "plt.xlabel('Epoch')\n",
        "plt.ylabel('Loss')\n",
        "plt.legend()\n",
        "\n",
        "plt.tight_layout()\n",
        "plt.show()\n",
        "\n",
        "# Plot precision, recall, and AUC\n",
        "plt.figure(figsize=(15, 5))\n",
        "\n",
        "# Precision\n",
        "plt.subplot(1, 3, 1)\n",
        "plt.plot(history.history['precision'], label='Train Precision')\n",
        "plt.plot(history.history['val_precision'], label='Validation Precision')\n",
        "plt.title('Precision over epochs')\n",
        "plt.xlabel('Epoch')\n",
        "plt.ylabel('Precision')\n",
        "plt.legend()\n",
        "\n",
        "# Recall\n",
        "plt.subplot(1, 3, 2)\n",
        "plt.plot(history.history['recall'], label='Train Recall')\n",
        "plt.plot(history.history['val_recall'], label='Validation Recall')\n",
        "plt.title('Recall over epochs')\n",
        "plt.xlabel('Epoch')\n",
        "plt.ylabel('Recall')\n",
        "plt.legend()\n",
        "\n",
        "# AUC\n",
        "plt.subplot(1, 3, 3)\n",
        "plt.plot(history.history['auc'], label='Train AUC')\n",
        "plt.plot(history.history['val_auc'], label='Validation AUC')\n",
        "plt.title('AUC over epochs')\n",
        "plt.xlabel('Epoch')\n",
        "plt.ylabel('AUC')\n",
        "plt.legend()\n",
        "\n",
        "plt.tight_layout()\n",
        "plt.show()\n",
        "\n",
        "\n",
        "# Evaluate the model\n",
        "#test_loss, test_accuracy, test_precision, test_recall, test_auc = finetune_model.evaluate(test_dataset)\n",
        "#print(f\"Test Metrics:\\n Loss: {test_loss}, Accuracy: {test_accuracy}, Precision: {test_precision}, Recall: {test_recall}, AUC: {test_auc}\")"
      ]
    },
    {
      "cell_type": "markdown",
      "source": [
        "# Test Fine-Tuned Model\n"
      ],
      "metadata": {
        "id": "5ViGgioyst_5"
      }
    },
    {
      "cell_type": "code",
      "source": [
        "# Path to your test video\n",
        "test_video_path = 'path/to/your/test_video.mp4'\n",
        "\n",
        "# Preprocess the video\n",
        "test_video_data = preprocess_test_video(test_video_path)\n",
        "test_video_data = np.expand_dims(test_video_data, axis=0)  # Add batch dimension\n",
        "\n",
        "# Load the fine-tuned model\n",
        "model = tf.keras.models.load_model('path/to/your/fine_tuned_model')\n",
        "\n",
        "# Make predictions\n",
        "predictions = model.predict(test_video_data)\n",
        "\n",
        "# Define an anomaly threshold\n",
        "anomaly_threshold = 0.5  # This is arbitrary; adjust based on your model and use case\n",
        "\n",
        "# Check if any segment is predicted as anomalous\n",
        "is_anomalous = np.any(predictions > anomaly_threshold)\n",
        "\n",
        "print(f\"Video is {'anomalous' if is_anomalous else 'normal'}\")\n"
      ],
      "metadata": {
        "id": "sHPhqV4us1U6"
      },
      "execution_count": null,
      "outputs": []
    },
    {
      "cell_type": "markdown",
      "metadata": {
        "id": "Aq1hW67sMce9"
      },
      "source": [
        "#References:\n",
        "\n",
        "*   Sultani, W., Chen, C. and Shah, M., 2018. Real-world anomaly detection in surveillance videos. Proceedings of the IEEE Conference on Computer Vision and Pattern Recognition (CVPR). Available at: https://www.crcv.ucf.edu/research/real-world-anomaly-detection-in-surveillance-videos/ 20/03/2024.\n",
        "*   Liu, Z., Hu, H., Lin, Y., Yao, Z., Xie, Z., Wei, Y., Ning, J., Cao, Y., Zhang, Z., Dong, L. and Wei, F., 2022. Swin transformer v2: Scaling up capacity and resolution. In Proceedings of the IEEE/CVF conference on computer vision and pattern recognition. Available at: https://github.com/innat/VideoSwin 20/03/2024\n"
      ]
    },
    {
      "cell_type": "code",
      "execution_count": null,
      "metadata": {
        "id": "ydJFOP4CMdhA"
      },
      "outputs": [],
      "source": []
    }
  ],
  "metadata": {
    "colab": {
      "provenance": [],
      "machine_shape": "hm",
      "mount_file_id": "1gynqv509-foIt7uHod2zNMODzUkFN7MN",
      "authorship_tag": "ABX9TyNDhG/m/jhAcuQC/Gwr36sQ",
      "include_colab_link": true
    },
    "kernelspec": {
      "display_name": "Python 3",
      "name": "python3"
    },
    "language_info": {
      "name": "python"
    }
  },
  "nbformat": 4,
  "nbformat_minor": 0
}